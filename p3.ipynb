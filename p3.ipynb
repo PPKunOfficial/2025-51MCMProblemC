{
 "cells": [
  {
   "cell_type": "code",
   "execution_count": null,
   "metadata": {},
   "outputs": [
    {
     "name": "stdout",
     "output_type": "stream",
     "text": [
      "Loading data...\n"
     ]
    }
   ],
   "source": [
    "import pandas as pd\n",
    "import numpy as np\n",
    "import lightgbm as lgb\n",
    "\n",
    "# from tqdm import tqdm # 如果在普通python脚本环境\n",
    "from tqdm.notebook import tqdm  # 如果在notebook环境，使用这个导入\n",
    "import gc\n",
    "import warnings\n",
    "from datetime import timedelta\n",
    "\n",
    "warnings.filterwarnings(\"ignore\", category=UserWarning)\n",
    "warnings.filterwarnings(\"ignore\", category=FutureWarning)  # 忽略一些未来的警告\n",
    "\n",
    "# --- 1. 数据加载与预处理 ---\n",
    "print(\"Loading data...\")\n",
    "dtype_spec = {\n",
    "    \"UserID\": \"category\",\n",
    "    \"UserBehaviour\": \"int8\",\n",
    "    \"BloggerID\": \"category\",\n",
    "    \"Time\": \"str\",\n",
    "}\n",
    "# Problem 3只需要附件1的数据\n",
    "# 注意：如果数据文件不在当前脚本同级目录的'program'文件夹下，请修改路径\n",
    "try:\n",
    "    df_hist = pd.read_csv(\n",
    "        \"/Users/pp/projects/51MCM2025/program/a1.csv\", dtype=dtype_spec\n",
    "    )\n",
    "except FileNotFoundError:\n",
    "    print(\"Error: 'program/a1.csv' not found. Please check the file path.\")\n",
    "    exit()"
   ]
  },
  {
   "cell_type": "code",
   "execution_count": 72,
   "metadata": {},
   "outputs": [
    {
     "name": "stdout",
     "output_type": "stream",
     "text": [
      "Preprocessing data...\n",
      "History data range: 2024-07-11 to 2024-07-20\n",
      "Prediction date: 2024-07-21\n",
      "Data loaded and preprocessed.\n"
     ]
    },
    {
     "data": {
      "text/plain": [
       "3227"
      ]
     },
     "execution_count": 72,
     "metadata": {},
     "output_type": "execute_result"
    }
   ],
   "source": [
    "\n",
    "print(\"Preprocessing data...\")\n",
    "df_hist['Time'] = pd.to_datetime(df_hist['Time'])\n",
    "df_hist['Date'] = pd.to_datetime(df_hist['Time'].dt.date)\n",
    "\n",
    "# --- 时间点定义 ---\n",
    "hist_start_date = pd.to_datetime('2024-07-11')\n",
    "hist_end_date = pd.to_datetime('2024-07-20') # 历史数据截止日期\n",
    "predict_date = pd.to_datetime('2024-07-21') # 预测目标日期\n",
    "\n",
    "print(f\"History data range: {hist_start_date.date()} to {hist_end_date.date()}\")\n",
    "print(f\"Prediction date: {predict_date.date()}\")\n",
    "\n",
    "# Problem 3 目标用户列表\n",
    "target_users_p3 = ['U9', 'U22405', 'U16', 'U48420']\n",
    "\n",
    "print(\"Data loaded and preprocessed.\")\n",
    "gc.collect()"
   ]
  },
  {
   "cell_type": "code",
   "execution_count": 73,
   "metadata": {},
   "outputs": [],
   "source": [
    "# --- 辅助函数：构建历史特征 (适配 Problem 3) ---\n",
    "def create_historical_features(df_hist_subset, reference_date):\n",
    "    \"\"\"\n",
    "    为给定的历史数据子集创建历史特征.\n",
    "    不包含“当天互动特征”。\n",
    "    \"\"\"\n",
    "    # print(f\"Creating historical features based on data up to {reference_date.date()}...\") # 移除这个打印，避免进度条混乱\n",
    "\n",
    "    hist_ref = df_hist_subset[df_hist_subset['Date'] <= reference_date].copy()\n",
    "\n",
    "    # --- 计算全局/用户/博主级别的聚合特征 ---\n",
    "    # print(\"Calculating global/user/blogger features...\") # 移除这个打印\n",
    "    user_agg = hist_ref.groupby('UserID').agg(\n",
    "        user_hist_interactions=('BloggerID', 'count'),\n",
    "        user_hist_unique_bloggers=('BloggerID', 'nunique'),\n",
    "        user_hist_follows=('UserBehaviour', lambda x: (x == 4).sum()),\n",
    "        user_hist_views=('UserBehaviour', lambda x: (x == 1).sum()),\n",
    "        user_hist_likes=('UserBehaviour', lambda x: (x == 2).sum()),\n",
    "        user_hist_comments=('UserBehaviour', lambda x: (x == 3).sum()),\n",
    "        user_active_days=('Date', 'nunique'),\n",
    "        user_first_active_date=('Date', 'min'),\n",
    "        user_last_active_date=('Date', 'max')\n",
    "    ).reset_index()\n",
    "    user_agg['user_follow_rate'] = user_agg['user_hist_follows'] / user_agg['user_hist_interactions'].replace(0, 1)\n",
    "    user_agg['user_days_since_last_active'] = (reference_date - user_agg['user_last_active_date']).dt.days\n",
    "    user_agg['user_account_age_days'] = (reference_date - user_agg['user_first_active_date']).dt.days\n",
    "\n",
    "    blogger_agg = hist_ref.groupby('BloggerID').agg(\n",
    "        blogger_hist_interactions=('UserID', 'count'),\n",
    "        blogger_hist_unique_users=('UserID', 'nunique'),\n",
    "        blogger_hist_follows=('UserBehaviour', lambda x: (x == 4).sum()),\n",
    "        blogger_hist_views=('UserBehaviour', lambda x: (x == 1).sum()),\n",
    "        blogger_hist_likes=('UserBehaviour', lambda x: (x == 2).sum()),\n",
    "        blogger_hist_comments=('UserBehaviour', lambda x: (x == 3).sum()),\n",
    "        blogger_active_days=('Date', 'nunique'),\n",
    "        blogger_first_active_date=('Date', 'min'),\n",
    "        blogger_last_active_date=('Date', 'max')\n",
    "    ).reset_index()\n",
    "    blogger_agg['blogger_follow_rate'] = blogger_agg['blogger_hist_follows'] / blogger_agg['blogger_hist_interactions'].replace(0, 1)\n",
    "    blogger_agg['blogger_days_since_last_active'] = (reference_date - blogger_agg['blogger_last_active_date']).dt.days\n",
    "    blogger_agg['blogger_account_age_days'] = (reference_date - blogger_agg['blogger_first_active_date']).dt.days\n",
    "\n",
    "    gc.collect()\n",
    "\n",
    "    # --- 计算用户-博主交互特征 ---\n",
    "    # print(\"Calculating user-blogger interaction features...\") # 移除这个打印\n",
    "    user_blogger_hist_agg = hist_ref.groupby(['UserID', 'BloggerID']).agg(\n",
    "        ub_hist_interactions=('Time', 'count'),\n",
    "        ub_hist_views=('UserBehaviour', lambda x: (x == 1).sum()),\n",
    "        ub_hist_likes=('UserBehaviour', lambda x: (x == 2).sum()),\n",
    "        ub_hist_comments=('UserBehaviour', lambda x: (x == 3).sum()),\n",
    "        ub_hist_follows=('UserBehaviour', lambda x: (x == 4).sum()), # Add ub follows\n",
    "        ub_first_interaction_date=('Date', 'min'),\n",
    "        ub_last_interaction_date=('Date', 'max'),\n",
    "        ub_interaction_days=('Date', 'nunique')\n",
    "    ).reset_index()\n",
    "    user_blogger_hist_agg['ub_days_since_first_interaction'] = (reference_date - user_blogger_hist_agg['ub_first_interaction_date']).dt.days\n",
    "    user_blogger_hist_agg['ub_days_since_last_interaction'] = (reference_date - user_blogger_hist_agg['ub_last_interaction_date']).dt.days\n",
    "    user_blogger_hist_agg['ub_interaction_frequency'] = user_blogger_hist_agg['ub_hist_interactions'] / user_blogger_hist_agg['ub_interaction_days'].replace(0, 1)\n",
    "    user_blogger_hist_agg['ub_follow_rate'] = user_blogger_hist_agg['ub_hist_follows'] / user_blogger_hist_agg['ub_hist_interactions'].replace(0, 1) # Add ub follow rate\n",
    "\n",
    "\n",
    "    # 删除不再需要的原始日期列\n",
    "    date_cols_to_drop = [\n",
    "        'user_first_active_date', 'user_last_active_date',\n",
    "        'blogger_first_active_date', 'blogger_last_active_date',\n",
    "        'ub_first_interaction_date', 'ub_last_interaction_date'\n",
    "    ]\n",
    "    user_agg = user_agg.drop(columns=[col for col in date_cols_to_drop if col in user_agg.columns], errors='ignore')\n",
    "    blogger_agg = blogger_agg.drop(columns=[col for col in date_cols_to_drop if col in blogger_agg.columns], errors='ignore')\n",
    "    user_blogger_hist_agg = user_blogger_hist_agg.drop(columns=[col for col in date_cols_to_drop if col in user_blogger_hist_agg.columns], errors='ignore')\n",
    "\n",
    "\n",
    "    return user_agg, blogger_agg, user_blogger_hist_agg\n"
   ]
  },
  {
   "cell_type": "code",
   "execution_count": 74,
   "metadata": {},
   "outputs": [
    {
     "name": "stdout",
     "output_type": "stream",
     "text": [
      "\n",
      "--- Building Training and Validation Data for Online Prediction ---\n",
      "Processing data for online prediction training (Predicting 7.20 based on 7.11-7.19)...\n",
      "Processing data for online prediction validation (Predicting 7.19 based on 7.11-7.18)...\n",
      "Filling missing values for online training and validation data...\n",
      "Online prediction training data shape: (19998, 10), labels shape: (19998,)\n",
      "Online prediction validation data shape: (19998, 10), labels shape: (19998,)\n"
     ]
    },
    {
     "data": {
      "text/plain": [
       "0"
      ]
     },
     "execution_count": 74,
     "metadata": {},
     "output_type": "execute_result"
    }
   ],
   "source": [
    "\n",
    "# --- 2. 子任务 1: 预测用户 2024.7.21 是否在线 ---\n",
    "print(\"\\n--- Building Training and Validation Data for Online Prediction ---\")\n",
    "# 训练集：预测 7.20 是否在线，特征基于 7.11-7.19\n",
    "print(\"Processing data for online prediction training (Predicting 7.20 based on 7.11-7.19)...\")\n",
    "train_pred_date_online = pd.to_datetime('2024-07-20')\n",
    "train_hist_end_online = train_pred_date_online - timedelta(days=1) # 7.19\n",
    "user_features_train_online, _, _ = create_historical_features(df_hist, train_hist_end_online)\n",
    "# 找到在 7.20 活跃的用户 (训练标签)\n",
    "active_on_train_date_online = df_hist[df_hist['Date'] == train_pred_date_online]['UserID'].unique()\n",
    "user_features_train_online['is_online'] = user_features_train_online['UserID'].isin(active_on_train_date_online).astype(int)\n",
    "# 验证集：预测 7.19 是否在线，特征基于 7.11-7.18\n",
    "print(\"Processing data for online prediction validation (Predicting 7.19 based on 7.11-7.18)...\")\n",
    "val_pred_date_online = pd.to_datetime('2024-07-19')\n",
    "val_hist_end_online = val_pred_date_online - timedelta(days=1) # 7.18\n",
    "user_features_val_online, _, _ = create_historical_features(df_hist, val_hist_end_online)\n",
    "# 找到在 7.19 活跃的用户 (验证标签)\n",
    "active_on_val_date_online = df_hist[df_hist['Date'] == val_pred_date_online]['UserID'].unique()\n",
    "user_features_val_online['is_online'] = user_features_val_online['UserID'].isin(active_on_val_date_online).astype(int)\n",
    "gc.collect()\n",
    "# 填充缺失值 (只对数值列填充)\n",
    "print(\"Filling missing values for online training and validation data...\")\n",
    "# 获取所有可能的特征列名 (从训练数据中获取)\n",
    "all_online_feature_cols = user_features_train_online.columns.difference(['UserID', 'is_online'])\n",
    "# 填充训练数据\n",
    "user_features_train_online[all_online_feature_cols] = user_features_train_online[all_online_feature_cols].fillna(0)\n",
    "# 填充验证数据\n",
    "user_features_val_online[all_online_feature_cols] = user_features_val_online[all_online_feature_cols].fillna(0)\n",
    "# 准备训练和验证数据\n",
    "X_train_online = user_features_train_online[all_online_feature_cols]\n",
    "y_train_online = user_features_train_online['is_online']\n",
    "X_val_online = user_features_val_online[all_online_feature_cols]\n",
    "y_val_online = user_features_val_online['is_online']\n",
    "print(f\"Online prediction training data shape: {X_train_online.shape}, labels shape: {y_train_online.shape}\")\n",
    "print(f\"Online prediction validation data shape: {X_val_online.shape}, labels shape: {y_val_online.shape}\")\n",
    "gc.collect()"
   ]
  },
  {
   "cell_type": "code",
   "execution_count": 75,
   "metadata": {},
   "outputs": [
    {
     "name": "stdout",
     "output_type": "stream",
     "text": [
      "\n",
      "--- Training LightGBM Classifier for Online Prediction ---\n",
      "Starting online model fitting...\n",
      "Online model training finished.\n"
     ]
    }
   ],
   "source": [
    "\n",
    "print(\"\\n--- Training LightGBM Classifier for Online Prediction ---\")\n",
    "# 定义模型参数\n",
    "online_lgb_params = {\n",
    "    'objective': 'binary',\n",
    "    'metric': 'auc',\n",
    "    'boosting_type': 'gbdt',\n",
    "    'num_leaves': 31,\n",
    "    'learning_rate': 0.05,\n",
    "    'feature_fraction': 0.9,\n",
    "    'bagging_fraction': 0.8,\n",
    "    'bagging_freq': 5,\n",
    "    'verbose': -1,\n",
    "    'n_estimators': 1000,\n",
    "    'n_jobs': -1,\n",
    "    'seed': 42,\n",
    "    'is_unbalance': True # 如果正负样本不平衡可以尝试开启\n",
    "}\n",
    "online_model = lgb.LGBMClassifier(**online_lgb_params)\n",
    "print(\"Starting online model fitting...\")\n",
    "# 在训练集上训练模型\n",
    "online_model.fit(X_train_online, y_train_online)\n",
    "print(\"Online model training finished.\")"
   ]
  },
  {
   "cell_type": "code",
   "execution_count": 76,
   "metadata": {},
   "outputs": [
    {
     "name": "stdout",
     "output_type": "stream",
     "text": [
      "\n",
      "--- Evaluating Online Model on Validation Set and Selecting Threshold ---\n",
      "Calculating metrics for different thresholds...\n"
     ]
    },
    {
     "data": {
      "application/vnd.jupyter.widget-view+json": {
       "model_id": "722371d89e9a40eeaf9547e088cecb50",
       "version_major": 2,
       "version_minor": 0
      },
      "text/plain": [
       "Evaluating Thresholds:   0%|          | 0/99 [00:00<?, ?it/s]"
      ]
     },
     "metadata": {},
     "output_type": "display_data"
    },
    {
     "name": "stdout",
     "output_type": "stream",
     "text": [
      "\n",
      "Best threshold for F1-score on validation set: 0.1700\n",
      "F1-score at this threshold: 0.7513\n",
      "Precision at this threshold: 0.6043\n",
      "Recall at this threshold: 0.9927\n",
      "\n",
      "Plot saved as Precision_Recall_F1-Score_vs_Threshold_on_Validation_Set.pdf\n",
      "\n",
      "Plot saved as online_prediction_metrics_vs_threshold_and_pr_curve.pdf\n"
     ]
    },
    {
     "data": {
      "image/png": "[encoded data removed]",
      "text/plain": [
       "<Figure size 1200x700 with 1 Axes>"
      ]
     },
     "metadata": {},
     "output_type": "display_data"
    },
    {
     "data": {
      "image/png": "[encoded data removed]",
      "text/plain": [
       "<Figure size 800x600 with 1 Axes>"
      ]
     },
     "metadata": {},
     "output_type": "display_data"
    }
   ],
   "source": [
    "from sklearn.metrics import precision_score, recall_score, f1_score, precision_recall_curve\n",
    "import numpy as np\n",
    "import matplotlib.pyplot as plt\n",
    "\n",
    "# --- 在验证集上评估并选择最佳阈值 ---\n",
    "print(\"\\n--- Evaluating Online Model on Validation Set and Selecting Threshold ---\")\n",
    "# 在验证集上预测概率\n",
    "y_pred_proba_val_online = online_model.predict_proba(X_val_online)[:, 1]\n",
    "# 计算 Precision, Recall, F1-Score 随阈值变化\n",
    "thresholds = np.arange(0.01, 1.0, 0.01) # 候选阈值范围 (从0.01开始避免除零)\n",
    "precisions = []\n",
    "recalls = []\n",
    "f1_scores = []\n",
    "print(\"Calculating metrics for different thresholds...\")\n",
    "for thresh in tqdm(thresholds, desc=\"Evaluating Thresholds\"):\n",
    "    # 将概率按当前阈值转换为 0/1 预测\n",
    "    y_pred_binary_val = (y_pred_proba_val_online >= thresh).astype(int)\n",
    "    # 计算指标 (注意 zero_division=0 避免除以零警告)\n",
    "    precisions.append(precision_score(y_val_online, y_pred_binary_val, zero_division=0))\n",
    "    recalls.append(recall_score(y_val_online, y_pred_binary_val, zero_division=0))\n",
    "    f1_scores.append(f1_score(y_val_online, y_pred_binary_val, zero_division=0))\n",
    "# 找到最佳阈值 (例如，使 F1 分数最高的阈值)\n",
    "best_f1_idx = np.argmax(f1_scores)\n",
    "best_threshold_f1 = thresholds[best_f1_idx]\n",
    "print(f\"\\nBest threshold for F1-score on validation set: {best_threshold_f1:.4f}\")\n",
    "print(f\"F1-score at this threshold: {f1_scores[best_f1_idx]:.4f}\")\n",
    "print(f\"Precision at this threshold: {precisions[best_f1_idx]:.4f}\")\n",
    "print(f\"Recall at this threshold: {recalls[best_f1_idx]:.4f}\")\n",
    "# 可视化指标随阈值变化\n",
    "plt.figure(figsize=(12, 7))\n",
    "plt.plot(thresholds, precisions, label='Precision')\n",
    "plt.plot(thresholds, recalls, label='Recall')\n",
    "plt.plot(thresholds, f1_scores, label='F1-Score', linewidth=2)\n",
    "plt.xlabel(\"Threshold\")\n",
    "plt.ylabel(\"Score\")\n",
    "plt.title(\"Precision, Recall, F1-Score vs. Threshold on Validation Set (Online Prediction)\")\n",
    "plt.axvline(best_threshold_f1, color='red', linestyle='--', label=f'Best F1 Threshold ({best_threshold_f1:.2f})')\n",
    "plt.legend()\n",
    "plt.grid(True)\n",
    "pdf_filename_online = \"Precision_Recall_F1-Score_vs_Threshold_on_Validation_Set.pdf\"\n",
    "plt.savefig(pdf_filename_online, format='pdf', bbox_inches='tight') # format='pdf' 指定格式, bbox_inches='tight' 尝试去除多余边距\n",
    "print(f\"\\nPlot saved as {pdf_filename_online}\")\n",
    "# 绘制 PR 曲线 (可选)\n",
    "precision_pr, recall_pr, _ = precision_recall_curve(y_val_online, y_pred_proba_val_online)\n",
    "auc_pr = auc(recall_pr, precision_pr)\n",
    "plt.figure(figsize=(8, 6))\n",
    "plt.plot(recall_pr, precision_pr, label=f'PR curve (AUC = {auc_pr:.2f})')\n",
    "plt.xlabel('Recall')\n",
    "plt.ylabel('Precision')\n",
    "plt.title('Precision-Recall Curve (Online Prediction)')\n",
    "plt.legend()\n",
    "plt.grid(True)\n",
    "# 保存图表\n",
    "pdf_filename_online = \"online_prediction_metrics_vs_threshold_and_pr_curve.pdf\"\n",
    "plt.savefig(pdf_filename_online, format='pdf', bbox_inches='tight') # format='pdf' 指定格式, bbox_inches='tight' 尝试去除多余边距\n",
    "print(f\"\\nPlot saved as {pdf_filename_online}\")\n",
    "plt.show() # 如果你想在保存后仍然显示图形，取消这行的注释\n",
    "plt.close('all') # 关闭所有图形，释放内存\n"
   ]
  },
  {
   "cell_type": "code",
   "execution_count": 80,
   "metadata": {},
   "outputs": [
    {
     "name": "stdout",
     "output_type": "stream",
     "text": [
      "\n",
      "Using final online prediction threshold: 0.6000\n",
      "\n",
      "--- Predicting 7.21 Online Status for Target Users ---\n",
      "Calculating historical features for target users (up to 7.20)...\n",
      "Filling missing values for target user features...\n"
     ]
    }
   ],
   "source": [
    "\n",
    "# --- 使用选择的最佳阈值进行 7.21 在线预测 ---\n",
    "final_online_prediction_threshold = 0.6\n",
    "print(f\"\\nUsing final online prediction threshold: {final_online_prediction_threshold:.4f}\")\n",
    "print(\"\\n--- Predicting 7.21 Online Status for Target Users ---\")\n",
    "# 为目标用户计算基于 7.11-7.20 的特征\n",
    "predict_online_users_df = pd.DataFrame({'UserID': target_users_p3})\n",
    "print(\"Calculating historical features for target users (up to 7.20)...\")\n",
    "predict_online_features_calc, _, _ = create_historical_features(df_hist, hist_end_date) # 7.20\n",
    "# 只保留目标用户的特征\n",
    "predict_online_features = pd.merge(predict_online_users_df, predict_online_features_calc, on='UserID', how='left')\n",
    "# 填充缺失值 (只对数值列填充)\n",
    "print(\"Filling missing values for target user features...\")\n",
    "# 选择需要填充的数值列，排除非数值列 (UserID)\n",
    "cols_to_fill_pred_online = predict_online_features.columns.difference(['UserID'])\n",
    "# 使用 fillna(0) 填充这些数值列\n",
    "predict_online_features[cols_to_fill_pred_online] = predict_online_features[cols_to_fill_pred_online].fillna(0)\n",
    "# 确保预测特征列与训练特征列一致\n",
    "# 注意：这里需要使用训练集 (X_train_online) 的列来对齐\n",
    "predict_online_features = predict_online_features[X_train_online.columns]\n"
   ]
  },
  {
   "cell_type": "code",
   "execution_count": 81,
   "metadata": {},
   "outputs": [
    {
     "name": "stdout",
     "output_type": "stream",
     "text": [
      "Predicted 3 target users to be online on 7.21.\n",
      "Predicted online users: ['U9', 'U22405', 'U48420']\n"
     ]
    },
    {
     "data": {
      "text/plain": [
       "38"
      ]
     },
     "execution_count": 81,
     "metadata": {},
     "output_type": "execute_result"
    }
   ],
   "source": [
    "# 预测在线概率\n",
    "online_pred_proba = online_model.predict_proba(predict_online_features)[:, 1]\n",
    "predict_online_users_df['online_proba'] = online_pred_proba\n",
    "# 根据选择的阈值判断是否在线\n",
    "predicted_online_users = predict_online_users_df[predict_online_users_df['online_proba'] >= final_online_prediction_threshold]['UserID'].tolist()\n",
    "print(f\"Predicted {len(predicted_online_users)} target users to be online on 7.21.\")\n",
    "print(f\"Predicted online users: {predicted_online_users}\")\n",
    "gc.collect()"
   ]
  },
  {
   "cell_type": "code",
   "execution_count": 82,
   "metadata": {},
   "outputs": [
    {
     "name": "stdout",
     "output_type": "stream",
     "text": [
      "\n",
      "Plot saved as Online_Probability_for_Selected Users.pdf\n"
     ]
    },
    {
     "data": {
      "image/png": "[encoded data removed]",
      "text/plain": [
       "<Figure size 800x600 with 1 Axes>"
      ]
     },
     "metadata": {},
     "output_type": "display_data"
    },
    {
     "data": {
      "text/html": [
       "<div>\n",
       "<style scoped>\n",
       "    .dataframe tbody tr th:only-of-type {\n",
       "        vertical-align: middle;\n",
       "    }\n",
       "\n",
       "    .dataframe tbody tr th {\n",
       "        vertical-align: top;\n",
       "    }\n",
       "\n",
       "    .dataframe thead th {\n",
       "        text-align: right;\n",
       "    }\n",
       "</style>\n",
       "<table border=\"1\" class=\"dataframe\">\n",
       "  <thead>\n",
       "    <tr style=\"text-align: right;\">\n",
       "      <th></th>\n",
       "      <th>UserID</th>\n",
       "      <th>online_proba</th>\n",
       "    </tr>\n",
       "  </thead>\n",
       "  <tbody>\n",
       "    <tr>\n",
       "      <th>0</th>\n",
       "      <td>U9</td>\n",
       "      <td>0.924850</td>\n",
       "    </tr>\n",
       "    <tr>\n",
       "      <th>1</th>\n",
       "      <td>U22405</td>\n",
       "      <td>0.720643</td>\n",
       "    </tr>\n",
       "    <tr>\n",
       "      <th>2</th>\n",
       "      <td>U16</td>\n",
       "      <td>0.429453</td>\n",
       "    </tr>\n",
       "    <tr>\n",
       "      <th>3</th>\n",
       "      <td>U48420</td>\n",
       "      <td>0.995767</td>\n",
       "    </tr>\n",
       "  </tbody>\n",
       "</table>\n",
       "</div>"
      ],
      "text/plain": [
       "   UserID  online_proba\n",
       "0      U9      0.924850\n",
       "1  U22405      0.720643\n",
       "2     U16      0.429453\n",
       "3  U48420      0.995767"
      ]
     },
     "execution_count": 82,
     "metadata": {},
     "output_type": "execute_result"
    }
   ],
   "source": [
    "import matplotlib.pyplot as plt\n",
    "import pandas as pd\n",
    "import seaborn as sns\n",
    "\n",
    "# 数据\n",
    "data = {\n",
    "    'UserID': ['U9', 'U22405', 'U16', 'U48420'],\n",
    "    'online_proba': online_pred_proba\n",
    "}\n",
    "df = pd.DataFrame(data)\n",
    "\n",
    "# 为了让图表更清晰，按概率降序排序\n",
    "# Seaborn 的 barplot 可以直接使用 order 参数，但先排序 DataFrame 也很直观\n",
    "df_sorted = df.sort_values(by='online_proba', ascending=False)\n",
    "\n",
    "# 创建图表和轴对象\n",
    "plt.figure(figsize=(8, 6))\n",
    "# 使用 seaborn 的 barplot\n",
    "ax = sns.barplot(x='UserID', y='online_proba', data=df_sorted, palette='viridis') # palette 可以设置颜色主题\n",
    "\n",
    "# 添加标题和轴标签 (使用 Matplotlib)\n",
    "plt.title('Online Probability for Selected Users', fontsize=14)\n",
    "plt.xlabel('UserID', fontsize=12)\n",
    "plt.ylabel('Online Probability', fontsize=12)\n",
    "plt.ylim(0, 1.1) # 设置Y轴范围\n",
    "\n",
    "# 在每个柱子上方显示具体的概率值 (使用 Matplotlib 和轴对象)\n",
    "for p in ax.patches:\n",
    "    ax.annotate(f'{p.get_height():.4f}', # 格式化概率值，保留4位小数\n",
    "                (p.get_x() + p.get_width() / 2., p.get_height()), # 文本位置 (x, y)\n",
    "                ha='center', va='center', # 水平垂直对齐\n",
    "                xytext=(0, 5), # 文本相对于位置的偏移量 (x, y)\n",
    "                textcoords='offset points')\n",
    "\n",
    "# 显示网格线 (可选)\n",
    "plt.grid(axis='y', linestyle='--', alpha=0.7)\n",
    "\n",
    "# 自动调整布局，防止文本重叠\n",
    "plt.tight_layout()\n",
    "\n",
    "pdf_filename_online = \"Online_Probability_for_Selected Users.pdf\"\n",
    "plt.savefig(pdf_filename_online, format='pdf', bbox_inches='tight') # format='pdf' 指定格式, bbox_inches='tight' 尝试去除多余边距\n",
    "print(f\"\\nPlot saved as {pdf_filename_online}\")\n",
    "\n",
    "# 显示图表\n",
    "plt.show()\n",
    "\n",
    "predict_online_users_df\n"
   ]
  },
  {
   "cell_type": "code",
   "execution_count": 93,
   "metadata": {},
   "outputs": [
    {
     "name": "stdout",
     "output_type": "stream",
     "text": [
      "已根据阈值 0.17 为所有用户添加了 'predicted_online' 列。\n",
      "\n",
      "部分预测结果 (前5行):\n",
      "   UserID  online_proba  predicted_online\n",
      "0      U9      0.924850              True\n",
      "1  U22405      0.720643              True\n",
      "2     U16      0.429453              True\n",
      "3  U48420      0.995767              True\n",
      "\n",
      "部分预测为在线的用户 (前5行):\n",
      "   UserID  online_proba  predicted_online\n",
      "0      U9      0.924850              True\n",
      "1  U22405      0.720643              True\n",
      "2     U16      0.429453              True\n",
      "3  U48420      0.995767              True\n",
      "\n",
      "部分预测为不在线的用户 (前5行):\n",
      "Empty DataFrame\n",
      "Columns: [UserID, online_proba, predicted_online]\n",
      "Index: []\n",
      "\n",
      "所有用户的预测结果已保存到文件: all_user_predictions_with_status.csv\n"
     ]
    }
   ],
   "source": [
    "import pandas as pd\n",
    "\n",
    "# 假设 predict_online_users_df 已经加载并包含了 'UserID' 和 'online_proba' 列\n",
    "# 请确保 predict_online_users_df 已经准备好\n",
    "# 例如，如果它是从文件加载的：\n",
    "# try:\n",
    "#     predict_online_users_df = pd.read_csv('your_predictions.csv') # 请替换成您实际的文件路径\n",
    "# except FileNotFoundError:\n",
    "#     print(\"错误：预测结果文件未找到。请确认文件路径是否正确。\")\n",
    "#     # 或者确保 predict_online_users_df 是通过运行之前的模型预测代码生成的\n",
    "\n",
    "# 假设 predict_online_users_df 已经存在于当前环境中\n",
    "\n",
    "# 定义最佳 F1 阈值 (从图表中读取)\n",
    "threshold = 0.17\n",
    "\n",
    "# 确认 DataFrame 存在并包含必要的列\n",
    "if 'predict_online_users_df' in locals() and isinstance(predict_online_users_df, pd.DataFrame) and 'online_proba' in predict_online_users_df.columns:\n",
    "    # 根据阈值进行分类预测\n",
    "    # 大于等于阈值的为 True (预测在线)，小于阈值的为 False (预测不在线)\n",
    "    predict_online_users_df['predicted_online'] = predict_online_users_df['online_proba'] >= threshold\n",
    "\n",
    "    print(f\"已根据阈值 {threshold} 为所有用户添加了 'predicted_online' 列。\")\n",
    "\n",
    "    # 显示部分预测结果（前几行）\n",
    "    print(\"\\n部分预测结果 (前5行):\")\n",
    "    print(predict_online_users_df.head())\n",
    "\n",
    "    # 显示部分预测为在线的用户\n",
    "    print(\"\\n部分预测为在线的用户 (前5行):\")\n",
    "    print(predict_online_users_df[predict_online_users_df['predicted_online'] == True].head())\n",
    "\n",
    "    # 显示部分预测为不在线的用户\n",
    "    print(\"\\n部分预测为不在线的用户 (前5行):\")\n",
    "    print(predict_online_users_df[predict_online_users_df['predicted_online'] == False].head())\n",
    "\n",
    "    # 如果用户数量很多，直接打印不方便，建议保存到文件\n",
    "    output_filename = 'all_user_predictions_with_status.csv'\n",
    "    predict_online_users_df.to_csv(output_filename, index=False)\n",
    "    print(f\"\\n所有用户的预测结果已保存到文件: {output_filename}\")\n",
    "\n",
    "\n",
    "else:\n",
    "    print(\"错误：找不到 predict_online_users_df DataFrame，或者它不包含 'online_proba' 列。请确保您已经运行了生成预测的代码，并且 DataFrame 名称正确。\")\n",
    "\n"
   ]
  },
  {
   "cell_type": "code",
   "execution_count": 83,
   "metadata": {},
   "outputs": [
    {
     "name": "stdout",
     "output_type": "stream",
     "text": [
      "\n",
      "--- Building Training Data for Interaction Prediction ---\n",
      "Processing data for interaction prediction training (Predicting 7.19 based on 7.11-7.18)...\n",
      "Merging features and labels for 7.19 interaction training...\n"
     ]
    },
    {
     "data": {
      "text/plain": [
       "34"
      ]
     },
     "execution_count": 83,
     "metadata": {},
     "output_type": "execute_result"
    }
   ],
   "source": [
    "\n",
    "# --- 3. 子任务 2: 预测在线用户的互动博主 (Top 3) ---\n",
    "print(\"\\n--- Building Training Data for Interaction Prediction ---\")\n",
    "# 构建训练数据：预测 7.19 和 7.20 的互动总数，特征基于前一天\n",
    "interaction_train_data = []\n",
    "# 训练样本 1: 预测 7.19 的互动总数，特征基于 7.11-7.18\n",
    "print(\"Processing data for interaction prediction training (Predicting 7.19 based on 7.11-7.18)...\")\n",
    "inter_date_1 = pd.to_datetime('2024-07-19')\n",
    "hist_end_1_inter = inter_date_1 - timedelta(days=1) # 7.18\n",
    "# 找到在 7.19 发生互动 (2,3,4) 的 (UserID, BloggerID) 对\n",
    "interaction_on_date_1 = df_hist[(df_hist['Date'] == inter_date_1) & (df_hist['UserBehaviour'].isin([2, 3, 4]))].copy()\n",
    "# 计算每个对的总互动数 (2,3,4) 作为标签\n",
    "interaction_labels_1 = interaction_on_date_1.groupby(['UserID', 'BloggerID']).size().reset_index(name='total_interaction_count')\n",
    "interaction_labels_1['inter_date'] = inter_date_1\n",
    "# 计算这些对的特征 (基于 7.11-7.18)\n",
    "user_agg_1_inter, blogger_agg_1_inter, ub_agg_1_inter = create_historical_features(df_hist, hist_end_1_inter)\n",
    "# 合并特征和标签\n",
    "print(\"Merging features and labels for 7.19 interaction training...\")\n",
    "interaction_features_1 = pd.merge(interaction_labels_1, user_agg_1_inter, on='UserID', how='left')\n",
    "interaction_features_1 = pd.merge(interaction_features_1, blogger_agg_1_inter, on='BloggerID', how='left')\n",
    "interaction_features_1 = pd.merge(interaction_features_1, ub_agg_1_inter, on=['UserID', 'BloggerID'], how='left')\n",
    "interaction_train_data.append(interaction_features_1)\n",
    "gc.collect()\n"
   ]
  },
  {
   "cell_type": "code",
   "execution_count": 84,
   "metadata": {},
   "outputs": [
    {
     "name": "stdout",
     "output_type": "stream",
     "text": [
      "Processing data for interaction prediction training (Predicting 7.20 based on 7.11-7.19)...\n",
      "Merging features and labels for 7.20 interaction training...\n"
     ]
    },
    {
     "data": {
      "text/plain": [
       "34"
      ]
     },
     "execution_count": 84,
     "metadata": {},
     "output_type": "execute_result"
    }
   ],
   "source": [
    "\n",
    "# 训练样本 2: 预测 7.20 的互动总数，特征基于 7.11-7.19\n",
    "print(\"Processing data for interaction prediction training (Predicting 7.20 based on 7.11-7.19)...\")\n",
    "inter_date_2 = pd.to_datetime('2024-07-20')\n",
    "hist_end_2_inter = inter_date_2 - timedelta(days=1) # 7.19\n",
    "# 找到在 7.20 发生互动 (2,3,4) 的 (UserID, BloggerID) 对\n",
    "interaction_on_date_2 = df_hist[(df_hist['Date'] == inter_date_2) & (df_hist['UserBehaviour'].isin([2, 3, 4]))].copy()\n",
    "# 计算每个对的总互动数 (2,3,4) 作为标签\n",
    "interaction_labels_2 = interaction_on_date_2.groupby(['UserID', 'BloggerID']).size().reset_index(name='total_interaction_count')\n",
    "interaction_labels_2['inter_date'] = inter_date_2\n",
    "# 计算这些对的特征 (基于 7.11-7.19)\n",
    "user_agg_2_inter, blogger_agg_2_inter, ub_agg_2_inter = create_historical_features(df_hist, hist_end_2_inter)\n",
    "# 合并特征和标签\n",
    "print(\"Merging features and labels for 7.20 interaction training...\")\n",
    "interaction_features_2 = pd.merge(interaction_labels_2, user_agg_2_inter, on='UserID', how='left')\n",
    "interaction_features_2 = pd.merge(interaction_features_2, blogger_agg_2_inter, on='BloggerID', how='left')\n",
    "interaction_features_2 = pd.merge(interaction_features_2, ub_agg_2_inter, on=['UserID', 'BloggerID'], how='left')\n",
    "interaction_train_data.append(interaction_features_2)\n",
    "gc.collect()"
   ]
  },
  {
   "cell_type": "code",
   "execution_count": 85,
   "metadata": {},
   "outputs": [
    {
     "name": "stdout",
     "output_type": "stream",
     "text": [
      "Concatenating interaction training data...\n",
      "Filling missing values for interaction training data...\n",
      "Interaction prediction training data shape: (1679832, 30), labels shape: (1679832,)\n"
     ]
    },
    {
     "data": {
      "text/plain": [
       "0"
      ]
     },
     "execution_count": 85,
     "metadata": {},
     "output_type": "execute_result"
    }
   ],
   "source": [
    "# 合并训练数据\n",
    "print(\"Concatenating interaction training data...\")\n",
    "interaction_train_df = pd.concat(interaction_train_data, ignore_index=True)\n",
    "# 填充缺失值 (只对数值列填充)\n",
    "print(\"Filling missing values for interaction training data...\")\n",
    "# 选择需要填充的数值列，排除非数值列 (UserID, BloggerID, total_interaction_count, inter_date)\n",
    "cols_to_fill_interaction = interaction_train_df.columns.difference(['UserID', 'BloggerID', 'total_interaction_count', 'inter_date'])\n",
    "# 使用 fillna(0) 填充这些数值列\n",
    "interaction_train_df[cols_to_fill_interaction] = interaction_train_df[cols_to_fill_interaction].fillna(0)\n",
    "# 准备训练数据\n",
    "interaction_labels = interaction_train_df['total_interaction_count']\n",
    "interaction_features = interaction_train_df.drop(columns=['UserID', 'BloggerID', 'total_interaction_count', 'inter_date'])\n",
    "# 确保列名一致\n",
    "feature_cols_interaction = interaction_features.columns.tolist()\n",
    "print(f\"Interaction prediction training data shape: {interaction_features.shape}, labels shape: {interaction_labels.shape}\")\n",
    "gc.collect()\n"
   ]
  },
  {
   "cell_type": "code",
   "execution_count": 86,
   "metadata": {},
   "outputs": [
    {
     "name": "stdout",
     "output_type": "stream",
     "text": [
      "\n",
      "--- Training LightGBM Regressor for Interaction Prediction ---\n",
      "Starting interaction model fitting...\n",
      "Interaction model training finished.\n"
     ]
    }
   ],
   "source": [
    "\n",
    "print(\"\\n--- Training LightGBM Regressor for Interaction Prediction ---\")\n",
    "# 定义模型参数\n",
    "interaction_lgb_params = {\n",
    "    'objective': 'regression_l1', # 预测计数，使用L1损失或L2损失\n",
    "    'metric': 'rmse',\n",
    "    'boosting_type': 'gbdt',\n",
    "    'num_leaves': 31,\n",
    "    'learning_rate': 0.05,\n",
    "    'feature_fraction': 0.9,\n",
    "    'bagging_fraction': 0.8,\n",
    "    'bagging_freq': 5,\n",
    "    'verbose': -1,\n",
    "    'n_estimators': 1000,\n",
    "    'n_jobs': -1,\n",
    "    'seed': 42,\n",
    "}\n",
    "interaction_model = lgb.LGBMRegressor(**interaction_lgb_params)\n",
    "print(\"Starting interaction model fitting...\")\n",
    "interaction_model.fit(interaction_features, interaction_labels)\n",
    "print(\"Interaction model training finished.\")\n"
   ]
  },
  {
   "cell_type": "code",
   "execution_count": 87,
   "metadata": {},
   "outputs": [
    {
     "name": "stdout",
     "output_type": "stream",
     "text": [
      "\n",
      "--- Predicting Top 3 Interaction Bloggers for Online Users on 7.21 ---\n",
      "Processing predicted online users: ['U9', 'U22405', 'U48420']\n",
      "Generating candidate user-blogger pairs for prediction...\n"
     ]
    },
    {
     "data": {
      "application/vnd.jupyter.widget-view+json": {
       "model_id": "d9c63f7fc5254a0b9d0d4c6a73ca129c",
       "version_major": 2,
       "version_minor": 0
      },
      "text/plain": [
       "Generating pairs:   0%|          | 0/3 [00:00<?, ?it/s]"
      ]
     },
     "metadata": {},
     "output_type": "display_data"
    },
    {
     "name": "stdout",
     "output_type": "stream",
     "text": [
      "Calculating historical features for prediction pairs (up to 7.20)...\n",
      "Merging features for prediction pairs...\n",
      "Filling missing values for prediction features...\n",
      "Prediction data shape: (64, 30)\n",
      "Predicting interaction counts for candidate pairs...\n",
      "Ranking bloggers and selecting Top 3 for each user...\n"
     ]
    },
    {
     "data": {
      "application/vnd.jupyter.widget-view+json": {
       "model_id": "125ac413ce9c49dc83c73568b30f32f5",
       "version_major": 2,
       "version_minor": 0
      },
      "text/plain": [
       "Selecting Top 3 Bloggers:   0%|          | 0/3 [00:00<?, ?it/s]"
      ]
     },
     "metadata": {},
     "output_type": "display_data"
    },
    {
     "data": {
      "text/plain": [
       "43"
      ]
     },
     "execution_count": 87,
     "metadata": {},
     "output_type": "execute_result"
    }
   ],
   "source": [
    "\n",
    "# --- 进行 7.21 互动预测 ---\n",
    "print(\"\\n--- Predicting Top 3 Interaction Bloggers for Online Users on 7.21 ---\")\n",
    "problem3_results = {user_id: [] for user_id in target_users_p3}\n",
    "if predicted_online_users:\n",
    "    print(f\"Processing predicted online users: {predicted_online_users}\")\n",
    "    # 为每个预测为在线的用户，生成候选博主列表\n",
    "    # 候选博主：该用户在 7.11-7.20 期间互动过的所有博主\n",
    "    candidate_pairs_list = []\n",
    "    print(\"Generating candidate user-blogger pairs for prediction...\")\n",
    "    # 使用 tqdm 包装外部循环\n",
    "    for user_id in tqdm(predicted_online_users, desc=\"Generating pairs\"):\n",
    "        user_hist_df = df_hist[df_hist['UserID'] == user_id].copy()\n",
    "        if not user_hist_df.empty:\n",
    "            # 考虑所有行为类型作为历史互动过的博主\n",
    "            interacted_bloggers = user_hist_df['BloggerID'].unique().tolist()\n",
    "            for blogger_id in interacted_bloggers:\n",
    "                # 确保 BloggerID 是字符串以便后续处理\n",
    "                candidate_pairs_list.append({'UserID': user_id, 'BloggerID': str(blogger_id)})\n",
    "    if candidate_pairs_list:\n",
    "        predict_interaction_df = pd.DataFrame(candidate_pairs_list)\n",
    "        print(\"Calculating historical features for prediction pairs (up to 7.20)...\")\n",
    "        user_agg_pred, blogger_agg_pred, ub_agg_pred = create_historical_features(df_hist, hist_end_date) # 7.20\n",
    "        print(\"Merging features for prediction pairs...\")\n",
    "        predict_interaction_features = pd.merge(predict_interaction_df, user_agg_pred, on='UserID', how='left')\n",
    "        predict_interaction_features = pd.merge(predict_interaction_features, blogger_agg_pred, on='BloggerID', how='left')\n",
    "        predict_interaction_features = pd.merge(predict_interaction_features, ub_agg_pred, on=['UserID', 'BloggerID'], how='left')\n",
    "        # 填充缺失值 (只对数值列填充)\n",
    "        print(\"Filling missing values for prediction features...\")\n",
    "        # 选择需要填充的数值列，排除非数值列 (UserID, BloggerID)\n",
    "        cols_to_fill_pred_inter = predict_interaction_features.columns.difference(['UserID', 'BloggerID'])\n",
    "        # 使用 fillna(0) 填充这些数值列\n",
    "        predict_interaction_features[cols_to_fill_pred_inter] = predict_interaction_features[cols_to_fill_pred_inter].fillna(0)\n",
    "        # 确保预测特征列与训练特征列一致且顺序相同\n",
    "        # 需要处理训练集中可能存在的但预测集中没有的列，反之亦然\n",
    "        # 简单方法是只保留训练集中存在的特征列\n",
    "        predict_interaction_features = predict_interaction_features[feature_cols_interaction]\n",
    "        print(f\"Prediction data shape: {predict_interaction_features.shape}\")\n",
    "        print(\"Predicting interaction counts for candidate pairs...\")\n",
    "        # 预测互动总数\n",
    "        predicted_interaction_counts = interaction_model.predict(predict_interaction_features)\n",
    "        predict_interaction_df['predicted_interaction_count'] = predicted_interaction_counts\n",
    "        # 对预测互动数为负数的情况进行处理，将其设为0 (互动数不能为负)\n",
    "        predict_interaction_df['predicted_interaction_count'] = predict_interaction_df['predicted_interaction_count'].apply(lambda x: max(0, x))\n",
    "        print(\"Ranking bloggers and selecting Top 3 for each user...\")\n",
    "        # 按用户分组，选择预测互动数最高的 Top 3 博主\n",
    "        # 使用 tqdm 包装 groupby 后的迭代\n",
    "        for user_id, user_predictions in tqdm(predict_interaction_df.groupby('UserID'), desc=\"Selecting Top 3 Bloggers\"):\n",
    "            user_predictions = user_predictions.sort_values(by='predicted_interaction_count', ascending=False)\n",
    "            top_bloggers = user_predictions['BloggerID'].tolist()[:3]\n",
    "            # 确保博主ID转换为字符串\n",
    "            problem3_results[user_id] = [str(bid) for bid in top_bloggers]\n",
    "    else:\n",
    "        print(\"No historical interaction pairs found for predicted online users.\")\n",
    "else:\n",
    "    print(\"No target users predicted to be online on 7.21. Skipping interaction prediction.\")\n",
    "gc.collect()\n"
   ]
  },
  {
   "cell_type": "code",
   "execution_count": 88,
   "metadata": {},
   "outputs": [
    {
     "name": "stdout",
     "output_type": "stream",
     "text": [
      "\n",
      "--- Generating Final Results for Table 3 ---\n",
      "\n",
      "--- 问题3 预测结果 ---\n",
      "  用户ID 博主ID 1 博主ID 2 博主ID 3\n",
      "    U9     B3    B23    B13\n",
      "U22405    B47    B59    B52\n",
      "   U16                     \n",
      "U48420     B5    B21     B2\n"
     ]
    }
   ],
   "source": [
    "\n",
    "# --- 4. 格式化输出结果 (表3) ---\n",
    "print(\"\\n--- Generating Final Results for Table 3 ---\")\n",
    "# 创建结果DataFrame\n",
    "table3_data = []\n",
    "for user_id in target_users_p3:\n",
    "    # 即使用户没有被预测为在线，或没有互动博主，也需要在表中包含他们，并留空博主列\n",
    "    bloggers = problem3_results.get(user_id, [])\n",
    "    row = {'用户ID': user_id}\n",
    "    for i in range(3):\n",
    "        row[f'博主ID {i+1}'] = bloggers[i] if i < len(bloggers) else '' # 如果不足3个则留空\n",
    "    table3_data.append(row)\n",
    "table3_df = pd.DataFrame(table3_data)\n",
    "print(\"\\n--- 问题3 预测结果 ---\")\n",
    "print(table3_df.to_string(index=False))"
   ]
  }
 ],
 "metadata": {
  "kernelspec": {
   "display_name": ".venv",
   "language": "python",
   "name": "python3"
  },
  "language_info": {
   "codemirror_mode": {
    "name": "ipython",
    "version": 3
   },
   "file_extension": ".py",
   "mimetype": "text/x-python",
   "name": "python",
   "nbconvert_exporter": "python",
   "pygments_lexer": "ipython3",
   "version": "3.12.8"
  }
 },
 "nbformat": 4,
 "nbformat_minor": 2
}
